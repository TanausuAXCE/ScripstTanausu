{
  "nbformat": 4,
  "nbformat_minor": 0,
  "metadata": {
    "colab": {
      "provenance": []
    },
    "kernelspec": {
      "name": "python3",
      "display_name": "Python 3"
    },
    "language_info": {
      "name": "python"
    }
  },
  "cells": [
    {
      "cell_type": "markdown",
      "source": [
        "\n",
        "\n",
        "1.   Dos motos viajan a diferentes velocidades (**vel1** y **vel2**) y están distanciados por una distancia **dis**. La moto que se encuentra detrás lleva una velocidad mayor que la primera. Se pide realizar un script en python que solicite al usuario la distancia entre las motos en km y las velocidades de las mismas y con ello devolver en cuanto tiempo la moto 2 alcanzará a la moto 1."
      ],
      "metadata": {
        "id": "yU4DEf3HBMru"
      }
    },
    {
      "cell_type": "code",
      "source": [
        "#declaración de variables\n",
        "vel1 = float(input(\"Introduce la velocidad de la moto uno: \"))\n",
        "vel2 = float(input(\"Introduce la velocidad de la moto dos: \"))\n",
        "d = float(input(\"Introduce la distancia entre la moto 1 y la moto dos(KM): \"))\n",
        "\n",
        "#Condicional que se asegura de que la moto 2 siempre sea más rápida\n",
        "if vel2<=vel1:\n",
        "  print(\"La moto2 siempre ha de ir más rápido que la moto uno, intorduce otra velocidad\")\n",
        "else:\n",
        "  tiempo = int(d / (vel2-vel1))\n",
        "  print(f\"La moto 1 ha sido alcanzada en {tiempo} horas\")"
      ],
      "metadata": {
        "id": "nLCVu66ZDnpq",
        "colab": {
          "base_uri": "https://localhost:8080/"
        },
        "outputId": "14c734c0-5bca-4a2b-c513-1b46c06514e6"
      },
      "execution_count": null,
      "outputs": [
        {
          "output_type": "stream",
          "name": "stdout",
          "text": [
            "Introduce la velocidad de la moto uno: 50\n",
            "Introduce la velocidad de la moto dos: 60\n",
            "Introduce la distancia entre la moto 1 y la moto dos(KM): 43\n",
            "La moto 1 ha sido alcanzada en 4 horas\n"
          ]
        }
      ]
    },
    {
      "cell_type": "code",
      "source": [
        "\n"
      ],
      "metadata": {
        "id": "cG3PaPs3EPfy"
      },
      "execution_count": null,
      "outputs": []
    },
    {
      "cell_type": "markdown",
      "source": [
        "2. El tutor de 2º ASIR esta organizando un viaje a Granada, y requiere determinar cuánto debe cobrar a cada alumne y cuánto debe pagar a la agencia de viajes. La forma de cobrar es la siguiente: si son 100 alumnos o más, el costo por cada alumno es de 65 euros; de 50 a 99 alumnos, el costo es de 70 euros, de 30 a 49, de 95 euros, y si son menos de 30, el costo de la guagua es de 4000 euros, sin importar el número de alumnos. Realice un script que permita determinar el pago a la compañía de guaguas y lo que debe pagar cada alumno por el viaje."
      ],
      "metadata": {
        "id": "bTX1b7swDmVd"
      }
    },
    {
      "cell_type": "code",
      "source": [
        "#declaración variable\n",
        "numalums= int(input(\"Introduce el número de alumnos que se van a Granada: \"))\n",
        "\n",
        "#condicional\n",
        "if numalums>=100:\n",
        "  print(\"Cada alumno deberá pagar 100 euros.\")\n",
        "elif numalums>=50:\n",
        "    print(\"Cada alumno deberá pagar 65 euros.\")\n",
        "elif numalums>=30:\n",
        "    print(\"Cada alumno deberá pagar 100 euros.\")\n",
        "else:\n",
        "  print(\"El costo de guagua es de 4000 euros.\")\n",
        "\n"
      ],
      "metadata": {
        "id": "1_orCltzEQhh"
      },
      "execution_count": null,
      "outputs": []
    },
    {
      "cell_type": "markdown",
      "source": [
        "3. Crea un script que permita adivinar un número. La aplicación genera un número aleatorio del 1 al 100. A continuación va pidiendo números y va respondiendo si el número a adivinar es mayor o menor que el introducido, además de los intentos que te quedan (tienes 10 intentos para acertarlo).  El programa termina cuando se acierta el número (además te dice en cuantos  intentos lo has acertado), si se llega al limite de intentos te muestra el  número que había generado."
      ],
      "metadata": {
        "id": "ksUYFjvcFhpq"
      }
    },
    {
      "cell_type": "code",
      "source": [
        "import random\n",
        "randn=random.randint(1,100)\n",
        "cont=int(0)\n",
        "\n",
        "while advn != randn:\n",
        " advn=int(input(\"Introduce un número para adivinar el número generado: \"))\n",
        " if advn < randn:\n",
        "   print(\"El número introducido es menor al generado.\")\n",
        "   cont+=1\n",
        " elif advn > randn:\n",
        "   print(\"El número introducido es mayor al generado.\")\n",
        "   cont+=1\n",
        " else:\n",
        "   print(f\"Exacto, el número era {advn} y lo has adivinado en {cont} intentos.\")\n"
      ],
      "metadata": {
        "id": "ePA_F-ggERZq",
        "colab": {
          "base_uri": "https://localhost:8080/"
        },
        "outputId": "d00bc364-e53a-44cc-e76c-822cfa6be3ad"
      },
      "execution_count": null,
      "outputs": [
        {
          "output_type": "stream",
          "name": "stdout",
          "text": [
            "Introduce un número para adivinar el número generado: 10\n",
            "El número introducido es menor al generado.\n",
            "Introduce un número para adivinar el número generado: 100\n",
            "El número introducido es mayor al generado.\n",
            "Introduce un número para adivinar el número generado: 40\n",
            "El número introducido es menor al generado.\n",
            "Introduce un número para adivinar el número generado: 50\n",
            "El número introducido es menor al generado.\n",
            "Introduce un número para adivinar el número generado: 90\n",
            "El número introducido es mayor al generado.\n",
            "Introduce un número para adivinar el número generado: 80\n",
            "El número introducido es menor al generado.\n",
            "Introduce un número para adivinar el número generado: 81\n",
            "El número introducido es menor al generado.\n",
            "Introduce un número para adivinar el número generado: 85\n",
            "El número introducido es menor al generado.\n",
            "Introduce un número para adivinar el número generado: 84\n",
            "El número introducido es menor al generado.\n",
            "Introduce un número para adivinar el número generado: 83\n",
            "El número introducido es menor al generado.\n",
            "Introduce un número para adivinar el número generado: 82\n",
            "El número introducido es menor al generado.\n",
            "Introduce un número para adivinar el número generado: 86\n",
            "El número introducido es menor al generado.\n",
            "Introduce un número para adivinar el número generado: 88\n",
            "Exacto, el número era 88 y lo has adivinado en 12 intentos.\n"
          ]
        }
      ]
    },
    {
      "cell_type": "markdown",
      "source": [
        "4. Realizar un script que pida una String por teclado que contenga espacios y devuelva el número de palabrás que contenga"
      ],
      "metadata": {
        "id": "a8VUj4CxH5Lh"
      }
    },
    {
      "cell_type": "code",
      "source": [
        "frase=str(input(\"Introuce una frase: \"))\n",
        "cont=int(0)\n",
        "\n",
        "palabra=frase.split()\n",
        "\n",
        "for i in palabra:\n",
        "  cont+=1\n",
        "if cont == 1:\n",
        "  print(\"Solo ha introducido una palabra.\")\n",
        "else:\n",
        "  print(cont)"
      ],
      "metadata": {
        "id": "XjlclapwESaJ",
        "colab": {
          "base_uri": "https://localhost:8080/"
        },
        "outputId": "7314cb37-bed2-4ddf-c8b9-9c191b8ab3e1"
      },
      "execution_count": null,
      "outputs": [
        {
          "output_type": "stream",
          "name": "stdout",
          "text": [
            "Introuce una frase: hola\n",
            "Solo ha introducido una palabra.\n"
          ]
        }
      ]
    },
    {
      "cell_type": "markdown",
      "source": [
        "5. Realiza un script que se le pasen 5 notas de un alumno por teclado (comprendidas entre 0 y 10). A continuación debe mostrar todas las notas, la nota media, la nota más alta que ha sacado y la menor.\n",
        "\n"
      ],
      "metadata": {
        "id": "hyvKdc75IXd5"
      }
    },
    {
      "cell_type": "code",
      "source": [
        "lista=list()\n",
        "import random\n",
        "import statistics\n",
        "for i in range(5):\n",
        "  randn=random.randint(0,10)\n",
        "  lista.append(randn)\n",
        "print(f\"La nota media es: {statistics.mean(lista)}\")\n",
        "print( )\n",
        "print(f\"La nota más alta es: {max(lista)}\")\n",
        "print( )\n",
        "print(f\"La nota más baja es: {min(lista)}\")"
      ],
      "metadata": {
        "id": "nOgqvWORETFB",
        "colab": {
          "base_uri": "https://localhost:8080/"
        },
        "outputId": "30476582-6d7c-4228-8f34-07887b912467"
      },
      "execution_count": null,
      "outputs": [
        {
          "output_type": "stream",
          "name": "stdout",
          "text": [
            "La nota media es: 2.8\n",
            "\n",
            "La nota más alta es: 7\n",
            "\n",
            "La nota más baja es: 0\n"
          ]
        }
      ]
    },
    {
      "cell_type": "markdown",
      "source": [
        "6. Realizar un script que cree una una tabla bidimensional de 5x5 y nombre 'diagonal'. La Componentes de han de empezar por 1 incrementandola hata estar llena la matirz. Se ha de mostrar el contenido de la tabla por pantalla."
      ],
      "metadata": {
        "id": "ZQxqS603I8S1"
      }
    },
    {
      "cell_type": "code",
      "source": [
        "\n",
        "import numpy as np\n",
        "\n",
        "# Crear una matriz de 5x5 llena de ceros\n",
        "\n",
        "tabla = np.array[[j*6+i+1 for j in range(6)] for n in range(6)]\n",
        "tabla2 = [ ]\n",
        "\n",
        "# Rellenar las diagonales con 1s\n",
        "\n",
        "for fila in tabla:\n",
        "    print(\" \".join(map(str, fila)))\n",
        "    tabla2 += fila\n",
        "\n",
        "tab = sp.Matrix([[0 for _ in range(5)] for _ in range(5)])\n",
        "\n",
        "det = tab.det()\n",
        "print(det)\n",
        "\n",
        "\n",
        "\n",
        "\n"
      ],
      "metadata": {
        "id": "b1tXQaS0ETrp",
        "colab": {
          "base_uri": "https://localhost:8080/"
        },
        "outputId": "25986a2f-2ec3-453e-b131-35a9003b9449"
      },
      "execution_count": null,
      "outputs": [
        {
          "output_type": "stream",
          "name": "stdout",
          "text": [
            "1 2 3 4 5 6\n",
            "7 8 9 10 11 12\n",
            "13 14 15 16 17 18\n",
            "19 20 21 22 23 24\n",
            "25 26 27 28 29 30\n",
            "31 32 33 34 35 36\n",
            "0\n"
          ]
        }
      ]
    },
    {
      "cell_type": "code",
      "source": [
        "!pip install sympy"
      ],
      "metadata": {
        "colab": {
          "base_uri": "https://localhost:8080/"
        },
        "id": "sc3Om--ktq3t",
        "outputId": "6d28b33b-9d58-4a7c-ffe1-b528b37a3d23"
      },
      "execution_count": null,
      "outputs": [
        {
          "output_type": "stream",
          "name": "stdout",
          "text": [
            "Requirement already satisfied: sympy in /usr/local/lib/python3.11/dist-packages (1.13.1)\n",
            "Requirement already satisfied: mpmath<1.4,>=1.1.0 in /usr/local/lib/python3.11/dist-packages (from sympy) (1.3.0)\n"
          ]
        }
      ]
    },
    {
      "cell_type": "markdown",
      "source": [
        "7. Crea un script que pida un número y cree un diccionario cuyas claves sean desde el número 1 hasta el número indicado, y los valores sean los cuadrados de las claves.\n",
        "\n"
      ],
      "metadata": {
        "id": "Ah0c0PB1Nw_d"
      }
    },
    {
      "cell_type": "code",
      "source": [
        "import math\n",
        "num=int(input(\"Inserta un número: \"))\n",
        "dict1 = { }\n",
        "\n",
        "for i in range(1,num + 1):\n",
        "  dict1[i] = [i ** 2]\n",
        "\n",
        "print(dict1)"
      ],
      "metadata": {
        "id": "OWcoMYqYEUez",
        "colab": {
          "base_uri": "https://localhost:8080/"
        },
        "outputId": "1189650d-ad96-44fb-d51f-6039ab6a46b6"
      },
      "execution_count": null,
      "outputs": [
        {
          "output_type": "stream",
          "name": "stdout",
          "text": [
            "Inserta un número: 10\n",
            "{1: [1], 2: [4], 3: [9], 4: [16], 5: [25], 6: [36], 7: [49], 8: [64], 9: [81]}\n"
          ]
        }
      ]
    },
    {
      "cell_type": "markdown",
      "source": [
        "8. Crea un script de una agenda en la que se guardan nombres y números de teléfono. En la agenda existirá un menú con las siguientes opciones:\n",
        " * **Añadir/modificar**: Nos pide un nombre. Si el nombre se encuentra en la agenda, debe mostrar el teléfono y, opcionalmente, permitir modificarlo si no es correcto. Si el nombre no se encuentra, debe permitir ingresar el teléfono correspondiente.\n",
        " * **Buscar**: Nos pide una cadena de caracteres, y nos muestras todos los contactos cuyos nombres comiencen por dicha cadena.\n",
        " * **Borrar**: Nos pide un nombre y si existe nos preguntará si queremos borrarlo de la agenda.\n",
        " * **Listar**: Nos muestra todos los contactos de la agenda.\n",
        "\n",
        "  Implementar el script con un diccionario."
      ],
      "metadata": {
        "id": "6vqpqY3DJ88o"
      }
    },
    {
      "cell_type": "code",
      "source": [
        "# Escribir un programa que implemente una agenda. En la agenda se podrán guardar nombres y números de teléfono.\n",
        "# El programa nos dará el siguiente menú:\n",
        "#\n",
        "# * Añadir/modificar: Nos pide un nombre. Si el nombre se encuentra en la agenda, debe mostrar el teléfono y,\n",
        "# opcionalmente, permitir modificarlo si no es correcto. Si el nombre no se encuentra, debe\n",
        "# permitir ingresar el teléfono correspondiente.\n",
        "# * Buscar: Nos pide una cadena de caracteres, y nos muestras todos los contactos cuyos nombres comiencen por dicha cadena.\n",
        "# * Borrar: Nos pide un nombre y si existe nos preguntará si queremos borrarlo de la agenda.\n",
        "# * Listar: Nos muestra todos los contactos de la agenda.\n",
        "#\n",
        "# Implementar el programa con un diccionario.\n",
        "\n",
        "agenda = {}\n",
        "opcion = 0\n",
        "while opcion != 5:\n",
        "    print(\"\\n\")\n",
        "    print(\"1. Añadir/modificar\")\n",
        "    print(\"2. Buscar\")\n",
        "    print(\"3. Borrar\")\n",
        "    print(\"4. Listar\")\n",
        "    print(\"5. Salir\")\n",
        "\n",
        "    opcion = int(input(\"Dime opción:\"))\n",
        "    match opcion:\n",
        "      case 1:\n",
        "        nombre = input(\"Nombre del contacto:\")\n",
        "        if nombre in agenda:\n",
        "            print(\"%s ya existe su número de teléfono es %s\" % (nombre,agenda[nombre]))\n",
        "            opcion = input(\"Pulsa 's' si quieres modificarlo!!!. Otra tecla para continuar.\")\n",
        "            if opcion == \"s\":\n",
        "                numero = input(\"Dame el nuevo número de teléfono:\")\n",
        "                agenda[nombre]=numero\n",
        "        else:\n",
        "            numero = input(\"Dame el número de teléfono:\")\n",
        "            agenda[nombre]=numero\n",
        "      case 2:\n",
        "        cadena = input(\"Nombre del contacto a buscar:\")\n",
        "        for nombre, numero in agenda.items():\n",
        "            if nombre.startswith(cadena):\n",
        "                print(\"El número de teléfono de %s es el %s\" % (nombre,agenda[nombre]))\n",
        "      case 3:\n",
        "        nombre = input(\"Nombre del contacto para borrar:\")\n",
        "        if nombre in agenda:\n",
        "            opcion = input(\"Pulsa 's' si quieres borrarlo!!!. Otra tecla para continuar.\")\n",
        "            if opcion == \"s\":\n",
        "                del agenda[nombre]\n",
        "        else:\n",
        "            print(\"No existe el contacto\")\n",
        "      case 4:\n",
        "        for nombre, numero in agenda.items():\n",
        "            print(nombre,\"->\",numero)\n",
        "      case 5:\n",
        "        print(\"\\n Adiós.\")\n",
        "      case _:\n",
        "        print(\"Opción incorrecta\")\n"
      ],
      "metadata": {
        "id": "GexEhTmSEVT4",
        "colab": {
          "base_uri": "https://localhost:8080/"
        },
        "outputId": "988e4a21-2c47-4465-bdb1-a558f73ea0f2"
      },
      "execution_count": null,
      "outputs": [
        {
          "output_type": "stream",
          "name": "stdout",
          "text": [
            "\n",
            "\n",
            "1. Añadir/modificar\n",
            "2. Buscar\n",
            "3. Borrar\n",
            "4. Listar\n",
            "5. Salir\n",
            "Dime opción:4\n",
            "\n",
            "\n",
            "1. Añadir/modificar\n",
            "2. Buscar\n",
            "3. Borrar\n",
            "4. Listar\n",
            "5. Salir\n",
            "Dime opción:5\n",
            "\n",
            " Adiós.\n"
          ]
        }
      ]
    },
    {
      "cell_type": "markdown",
      "source": [
        "9. Crear un script que al introducir una fecha nos diga a que día juliano corresponde. El día juliano correspondiente a una fecha es un número entero que indica los días que han transcurrido desde el 1 de enero.Para ello debes de hacer las siguientes funciones:\n",
        " * **LeerFecha**: Lee por teclado el día, mes y el año.\n",
        " * **DiasDelMes**: Recibe un mes y un año y devuelve el número de días\n",
        " * **EsBisiesto**: Recibido un año nos dice si es bisiesto o no.\n",
        " * **Calcular_Dia_Juliano**: Recibe una fecha y nos devuelve el día juliano."
      ],
      "metadata": {
        "id": "-PHluINDPCH5"
      }
    },
    {
      "cell_type": "code",
      "source": [
        "def LeerFecha():\n",
        "  dia = int(input(\"Introduce el día: \"))\n",
        "  mes = int(input(\"Introduce el mes: \"))\n",
        "  año = int(input(\"Introduce el año: \"))\n",
        "  return dia, mes, año\n",
        "\n",
        "def DiasDelMes(mes, año):\n",
        "  if mes in [1, 3, 5, 7, 8, 10, 12]:\n",
        "   return 31\n",
        "  elif mes in [4, 6, 9, 11]:\n",
        "   return 30\n",
        "  elif mes == 2:\n",
        "   if EsBisiesto(año):\n",
        "    return 29\n",
        "   else:\n",
        "    return 28\n",
        "\n",
        "def EsBisiesto(año):\n",
        "  if (año % 4 == 0 and año % 100 != 0) or (año % 400 == 0):\n",
        "   return True\n",
        "  else:\n",
        "   return False\n",
        "\n",
        "def Calcular_Dia_Juliano(dia, mes, año):\n",
        "  total_dias = dia\n",
        "  for m in range(1, mes):\n",
        "   total_dias += DiasDelMes(m, año)\n",
        "  return total_dias\n",
        "\n",
        "# Programa principal\n",
        "fecha = LeerFecha()\n",
        "dia_juliano = Calcular_Dia_Juliano(fecha[0], fecha[1], fecha[2])\n",
        "print(\"El día juliano correspondiente a la fecha es:\", dia_juliano)"
      ],
      "metadata": {
        "id": "EbNdAbeBEV5g",
        "colab": {
          "base_uri": "https://localhost:8080/"
        },
        "outputId": "b62c34ec-962d-4f02-8b9f-76af49fdc6db"
      },
      "execution_count": null,
      "outputs": [
        {
          "output_type": "stream",
          "name": "stdout",
          "text": [
            "MJD de 2025-01-01: 2460707\n",
            "MJD de 2025-03-01: 2460676\n",
            "Días transcurridos desde 2025-01-01: 32\n"
          ]
        }
      ]
    },
    {
      "cell_type": "markdown",
      "source": [
        "\n",
        "10. Función CalcularMCD: Recibe dos números y devuelve el MCD utilizando el método de Euclides.\n",
        "El método de Euclides es el siguiente:\n",
        " * Se divide el número mayor entre el menor.\n",
        " * Si la división es exacta, el divisor es el MCD.\n",
        " * Si la división no es exacta, dividimos el divisor entre el resto obtenido y se continúa de esta forma hasta obtener una división exacta, siendo el último divisor el MCD.\n"
      ],
      "metadata": {
        "id": "xQCJ8l2QPU3m"
      }
    },
    {
      "cell_type": "code",
      "source": [
        "def mcd(a,b):\n",
        "    if a < 0:\n",
        "        return mcd(-a,b)\n",
        "    if b < 0:\n",
        "        return mcd(a,-b)\n",
        "    if b == 0:\n",
        "        return a #CASO BASE\n",
        "    return mcd(a, a%b)\n",
        "mcd(64,24)"
      ],
      "metadata": {
        "id": "KZWQBYhdEWow",
        "colab": {
          "base_uri": "https://localhost:8080/"
        },
        "outputId": "dc7a112d-170b-4276-873f-e1a9283fbf67"
      },
      "execution_count": null,
      "outputs": [
        {
          "output_type": "execute_result",
          "data": {
            "text/plain": [
              "64"
            ]
          },
          "metadata": {},
          "execution_count": 73
        }
      ]
    },
    {
      "cell_type": "code",
      "source": [
        "#Hacer un programa donde se pida un nombre por teclado y se imprima “Hola ..el_nombre_ingresado”\n",
        "def holamun(nombre):\n",
        "  print (f\"Hola {nombre}\")\n",
        "\n",
        "\n",
        "\n",
        "holamun(nombre)\n",
        "print(\" \")\n",
        "\n",
        "def nums(num1,num2):\n",
        "  print(f\"La suma es: {num1 + num2}\")\n",
        "  print(f\"La resta es: {num1 - num2}\")\n",
        "  print(f\"La multiplicación es: {num1 * num2}\")\n",
        "  print(f\"La división es: {num1 / num2}\")\n",
        "\n",
        "\n",
        "num1 = int(input(\"Pasa el primer número: \"))\n",
        "num2 = int(input(\"Pasa el segundo número: \"))\n",
        "nums(num1,num2)\n",
        "print(\" \")"
      ],
      "metadata": {
        "colab": {
          "base_uri": "https://localhost:8080/"
        },
        "id": "HooZQnSrr5PM",
        "outputId": "57156e01-7ad0-4c34-9e7d-b34c634834eb"
      },
      "execution_count": null,
      "outputs": [
        {
          "output_type": "stream",
          "name": "stdout",
          "text": [
            "Hola Manolo\n",
            " \n",
            "Pasa el primer número: 1\n",
            "Pasa el segundo número: 2\n",
            "La suma es: 3\n",
            "La resta es: -1\n",
            "La multiplicación es: 2\n",
            "La división es: 0.5\n",
            " \n"
          ]
        }
      ]
    },
    {
      "cell_type": "code",
      "source": [
        "def LeerFecha():\n",
        "    fec = str(input('Introduce una fecha YYYY-MM-DD: '))\n",
        "\n",
        "\n",
        "def Calcular_Dia_Juliano(fec):\n",
        "\n",
        "  from datetime import datetime\n",
        "  from astropy.time import Time\n",
        "\n",
        "  # Definir las fechas\n",
        "  fecha_inicial = Time('2025-01-01')\n",
        "  fecha_final = Time(datetime.strptime(fec, '%Y-%m-%d'))\n",
        "\n",
        "  # Calcular los MJD\n",
        "  mjd_inicial = fecha_inicial.jd\n",
        "  mjd_final = fecha_final.jd\n",
        "\n",
        "  # Calcular la diferencia en días desde 2025-01-01\n",
        "  dias_transcurridos = round(mjd_final) - round(mjd_inicial)\n",
        "\n",
        "  # Resultados\n",
        "  print(f\"Días transcurridos desde 2025-01-01: {dias_transcurridos}\")\n",
        "\n",
        "# Programa principal\n",
        "LeerFecha()\n",
        "dia_juliano = Calcular_Dia_Juliano(fec)\n"
      ],
      "metadata": {
        "id": "XLMZZtwzt4Vz",
        "colab": {
          "base_uri": "https://localhost:8080/"
        },
        "outputId": "434c6f3b-158e-443e-b4fc-c61fcc23ebdb"
      },
      "execution_count": null,
      "outputs": [
        {
          "output_type": "stream",
          "name": "stdout",
          "text": [
            "Introduce una fecha YYYY-MM-DD: 2025-09-21\n",
            "Días transcurridos desde 2025-01-01: 128\n"
          ]
        }
      ]
    },
    {
      "cell_type": "code",
      "source": [
        "import numpy as np\n",
        "n=6\n",
        "array = np.array([[i*n+j for j in range(n)] for i in range(n)])\n",
        "det = np.linalg.det(array)\n",
        "print(array)\n",
        "print(det)"
      ],
      "metadata": {
        "colab": {
          "base_uri": "https://localhost:8080/"
        },
        "id": "-VgaX1epwr1D",
        "outputId": "848504b0-1697-4cfc-e03f-98eb9591b64e"
      },
      "execution_count": null,
      "outputs": [
        {
          "output_type": "stream",
          "name": "stdout",
          "text": [
            "[[ 0  1  2  3  4  5]\n",
            " [ 6  7  8  9 10 11]\n",
            " [12 13 14 15 16 17]\n",
            " [18 19 20 21 22 23]\n",
            " [24 25 26 27 28 29]\n",
            " [30 31 32 33 34 35]]\n",
            "0.0\n"
          ]
        }
      ]
    },
    {
      "cell_type": "code",
      "source": [
        "#Hacer un programa donde se pida un nombre por teclado y se imprima “Hola ..el_nombre_ingresado”\n",
        "def holamun(nombre):\n",
        "  print (f\"Hola {nombre}\")\n",
        "\n",
        "\n",
        "\n",
        "holamun(nombre)\n",
        "print(\" \")\n",
        "\n",
        "def nums(num1,num2):\n",
        "  print(f\"La suma es: {num1 + num2}\")\n",
        "  print(f\"La resta es: {num1 - num2}\")\n",
        "  print(f\"La multiplicación es: {num1 * num2}\")\n",
        "  print(f\"La división es: {num1 / num2}\")\n",
        "\n",
        "\n",
        "num1 = int(input(\"Pasa el primer número: \"))\n",
        "num2 = int(input(\"Pasa el segundo número: \"))\n",
        "nums(num1,num2)\n",
        "print(\" \")"
      ],
      "metadata": {
        "id": "uMQAfWw6VnaN"
      },
      "execution_count": null,
      "outputs": []
    }
  ]
}